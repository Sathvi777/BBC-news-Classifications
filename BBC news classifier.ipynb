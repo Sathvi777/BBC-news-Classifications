{
  "nbformat": 4,
  "nbformat_minor": 0,
  "metadata": {
    "colab": {
      "provenance": []
    },
    "kernelspec": {
      "name": "python3",
      "display_name": "Python 3"
    },
    "language_info": {
      "name": "python"
    }
  },
  "cells": [
    {
      "cell_type": "code",
      "execution_count": 1,
      "metadata": {
        "id": "zMMxkJpOJPC9"
      },
      "outputs": [],
      "source": [
        "import pandas as pd\n",
        "import re\n",
        "import nltk\n",
        "from nltk.corpus import stopwords\n",
        "from nltk.stem import WordNetLemmatizer\n",
        "from sklearn.model_selection import train_test_split\n",
        "from sklearn.feature_extraction.text import TfidfVectorizer\n",
        "from sklearn.linear_model import LogisticRegression\n",
        "from sklearn.metrics import classification_report, confusion_matrix"
      ]
    },
    {
      "cell_type": "code",
      "source": [
        "nltk.download('punkt')\n",
        "nltk.download('punkt_tab')\n",
        "nltk.download('wordnet')\n",
        "nltk.download('stopwords')"
      ],
      "metadata": {
        "colab": {
          "base_uri": "https://localhost:8080/"
        },
        "id": "fYtSOB_eJWtI",
        "outputId": "069c37f0-a527-43f5-ff3d-3e021beda260"
      },
      "execution_count": 7,
      "outputs": [
        {
          "output_type": "stream",
          "name": "stderr",
          "text": [
            "[nltk_data] Downloading package punkt to /root/nltk_data...\n",
            "[nltk_data]   Unzipping tokenizers/punkt.zip.\n",
            "[nltk_data] Downloading package punkt_tab to /root/nltk_data...\n",
            "[nltk_data]   Unzipping tokenizers/punkt_tab.zip.\n",
            "[nltk_data] Downloading package wordnet to /root/nltk_data...\n",
            "[nltk_data]   Package wordnet is already up-to-date!\n",
            "[nltk_data] Downloading package stopwords to /root/nltk_data...\n",
            "[nltk_data]   Package stopwords is already up-to-date!\n"
          ]
        },
        {
          "output_type": "execute_result",
          "data": {
            "text/plain": [
              "True"
            ]
          },
          "metadata": {},
          "execution_count": 7
        }
      ]
    },
    {
      "cell_type": "code",
      "source": [
        "df = pd.read_csv(\"/content/BBC_News_processed[1].csv\")\n",
        "df.head()\n",
        "print(df.columns)"
      ],
      "metadata": {
        "colab": {
          "base_uri": "https://localhost:8080/"
        },
        "id": "7iUAdTDwJeo5",
        "outputId": "286b3205-e83c-4f32-b3f5-1e60cd2560bb"
      },
      "execution_count": 3,
      "outputs": [
        {
          "output_type": "stream",
          "name": "stdout",
          "text": [
            "Index(['Unnamed: 0', 'ArticleId', 'Text', 'Category', 'News_length',\n",
            "       'Text_parsed', 'Category_target'],\n",
            "      dtype='object')\n"
          ]
        }
      ]
    },
    {
      "cell_type": "code",
      "source": [
        "stop_words = set(stopwords.words('english'))\n",
        "lemmatizer = WordNetLemmatizer()"
      ],
      "metadata": {
        "id": "xNhCbqS7JuSP"
      },
      "execution_count": 4,
      "outputs": []
    },
    {
      "cell_type": "code",
      "source": [
        "def clean_text(text):\n",
        "    text = text.lower()\n",
        "    text = re.sub(r'[^a-z\\s]', '', text)\n",
        "    tokens = nltk.word_tokenize(text)\n",
        "    tokens = [lemmatizer.lemmatize(word) for word in tokens if word not in stop_words and len(word) > 2]\n",
        "    return ' '.join(tokens)\n"
      ],
      "metadata": {
        "id": "4k4McW7EJ1Co"
      },
      "execution_count": 5,
      "outputs": []
    },
    {
      "cell_type": "code",
      "source": [
        "df['Clean_Text'] = df['Text'].apply(clean_text)"
      ],
      "metadata": {
        "id": "B14L5tZsJ80E"
      },
      "execution_count": 8,
      "outputs": []
    },
    {
      "cell_type": "code",
      "source": [
        "print(\"Unique custom categories:\", df['custom_category'].unique())\n",
        "print(\"Total count:\", df['custom_category'].nunique())\n"
      ],
      "metadata": {
        "colab": {
          "base_uri": "https://localhost:8080/"
        },
        "id": "shVbjDDGMo0Y",
        "outputId": "d7f3a80a-42ac-4de7-c22c-5b61dc695845"
      },
      "execution_count": 44,
      "outputs": [
        {
          "output_type": "stream",
          "name": "stdout",
          "text": [
            "Unique custom categories: ['economics' 'education' 'politics' 'sports' 'entertainment']\n",
            "Total count: 5\n"
          ]
        }
      ]
    },
    {
      "cell_type": "code",
      "source": [
        "df['custom_category'] = df['Category']\n",
        "\n"
      ],
      "metadata": {
        "id": "KzhJCLasLUQP"
      },
      "execution_count": 45,
      "outputs": []
    },
    {
      "cell_type": "code",
      "source": [
        "print(df['Category'].unique())"
      ],
      "metadata": {
        "colab": {
          "base_uri": "https://localhost:8080/"
        },
        "id": "JzeowO42NMVR",
        "outputId": "699e454f-deee-4a69-b806-9b7c942a038b"
      },
      "execution_count": 46,
      "outputs": [
        {
          "output_type": "stream",
          "name": "stdout",
          "text": [
            "['economics' 'education' 'politics' 'sports' 'entertainment']\n"
          ]
        }
      ]
    },
    {
      "cell_type": "code",
      "source": [
        "print(df['Category'].unique())\n",
        "print(df['Category'].value_counts())\n"
      ],
      "metadata": {
        "colab": {
          "base_uri": "https://localhost:8080/"
        },
        "id": "2iiBUghrNTaR",
        "outputId": "c72a2836-c6d9-4b7b-da95-98ff377477de"
      },
      "execution_count": 47,
      "outputs": [
        {
          "output_type": "stream",
          "name": "stdout",
          "text": [
            "['economics' 'education' 'politics' 'sports' 'entertainment']\n",
            "Category\n",
            "sports           346\n",
            "economics        336\n",
            "politics         274\n",
            "entertainment    273\n",
            "education        261\n",
            "Name: count, dtype: int64\n"
          ]
        }
      ]
    },
    {
      "cell_type": "code",
      "source": [
        "train_df, test_df = train_test_split(df, test_size=0.2, random_state=42)"
      ],
      "metadata": {
        "id": "n8mIL77_J_Fu"
      },
      "execution_count": 48,
      "outputs": []
    },
    {
      "cell_type": "code",
      "source": [
        "class MarkovChain:\n",
        "    def __init__(self):\n",
        "        self.transitions = {}\n",
        "\n",
        "    def train(self, texts):\n",
        "        for text in texts:\n",
        "            words = text.split()\n",
        "            for i in range(len(words)-1):\n",
        "                self.transitions.setdefault(words[i], []).append(words[i+1])\n",
        "\n",
        "    def generate(self, word, length=50):\n",
        "        output = [word]\n",
        "        for _ in range(length-1):\n",
        "            next_words = self.transitions.get(output[-1], [])\n",
        "            if not next_words:\n",
        "                break\n",
        "            output.append(random.choice(next_words))\n",
        "        return ' '.join(output)\n",
        "\n"
      ],
      "metadata": {
        "id": "gixZY_F0Ka2z"
      },
      "execution_count": 49,
      "outputs": []
    },
    {
      "cell_type": "code",
      "source": [
        "df['custom_category'] = df['Category'].map(custom_mapping).fillna('other')\n",
        "\n",
        "\n"
      ],
      "metadata": {
        "id": "uh31nQwMKhrh"
      },
      "execution_count": 50,
      "outputs": []
    },
    {
      "cell_type": "code",
      "source": [
        "models = {}\n",
        "for category in train_df['custom_category'].unique():\n",
        "    texts = train_df.loc[train_df['custom_category']==category, 'Clean_Text'].tolist()\n",
        "    model = MarkovChain()\n",
        "    model.train(texts)\n",
        "    models[category] = model"
      ],
      "metadata": {
        "id": "nubeQaGOKkxP"
      },
      "execution_count": 51,
      "outputs": []
    },
    {
      "cell_type": "code",
      "source": [
        "print(\"Models trained:\", list(models.keys()))"
      ],
      "metadata": {
        "colab": {
          "base_uri": "https://localhost:8080/"
        },
        "id": "ww4teg2rNqc_",
        "outputId": "f876ec35-c6c7-4896-c2f8-5dd99958ec00"
      },
      "execution_count": 52,
      "outputs": [
        {
          "output_type": "stream",
          "name": "stdout",
          "text": [
            "Models trained: ['sports', 'economics', 'politics', 'entertainment', 'education']\n"
          ]
        }
      ]
    },
    {
      "cell_type": "code",
      "source": [
        "def predict_custom_category(text, models):\n",
        "    words = text.lower().split()\n",
        "    best_category = None\n",
        "    best_score = float('-inf')\n",
        "    for category, model in models.items():\n",
        "        score = 0\n",
        "        for i in range(len(words)-1):\n",
        "            next_words = model.transitions.get(words[i], [])\n",
        "            if words[i+1] in next_words:\n",
        "                score += 1  # increment score if this transition exists\n",
        "            else:\n",
        "                score -= 0.1  # slight penalty if transition doesn't exist\n",
        "        if score > best_score:\n",
        "            best_score = score\n",
        "            best_category = category\n",
        "    return best_category\n",
        "\n",
        "\n"
      ],
      "metadata": {
        "id": "_oQlJ3W7LY9f"
      },
      "execution_count": 53,
      "outputs": []
    },
    {
      "cell_type": "code",
      "source": [
        "# Test it\n",
        "test_text = \"The central bank announced new policies to boost economic growth.\"\n",
        "predicted = predict_custom_category(test_text, models)\n",
        "print(\"Predicted Category:\", predicted)"
      ],
      "metadata": {
        "colab": {
          "base_uri": "https://localhost:8080/"
        },
        "id": "mGxl8q20Lsl5",
        "outputId": "d3834dec-6914-498e-8ec8-155b85482a9d"
      },
      "execution_count": 54,
      "outputs": [
        {
          "output_type": "stream",
          "name": "stdout",
          "text": [
            "Predicted Category: economics\n"
          ]
        }
      ]
    },
    {
      "cell_type": "code",
      "source": [
        "# Apply prediction function with models passed in\n",
        "test_df['predicted'] = test_df['Clean_Text'].apply(lambda x: predict_custom_category(x, models))\n",
        "\n",
        "# Evaluate accuracy\n",
        "accuracy = (test_df['custom_category'] == test_df['predicted']).mean()\n",
        "print(\"Accuracy:\", accuracy)"
      ],
      "metadata": {
        "colab": {
          "base_uri": "https://localhost:8080/"
        },
        "id": "HXRQ0g9GLu6x",
        "outputId": "d57cad3f-7713-4561-db4d-2bad9bf82afb"
      },
      "execution_count": 55,
      "outputs": [
        {
          "output_type": "stream",
          "name": "stdout",
          "text": [
            "Accuracy: 0.9563758389261745\n"
          ]
        }
      ]
    },
    {
      "cell_type": "code",
      "source": [
        "import seaborn as sns\n",
        "import matplotlib.pyplot as plt\n",
        "\n",
        "# Define the category list if not already defined\n",
        "custom_categories = sorted(test_df['custom_category'].unique())\n",
        "\n",
        "# Generate confusion matrix\n",
        "cm = confusion_matrix(test_df['custom_category'], test_df['predicted'], labels=custom_categories)\n",
        "\n",
        "# Plot heatmap\n",
        "plt.figure(figsize=(8, 6))\n",
        "sns.heatmap(cm, annot=True, fmt=\"d\", xticklabels=custom_categories, yticklabels=custom_categories, cmap=\"Blues\")\n",
        "plt.xlabel(\"Predicted Category\")\n",
        "plt.ylabel(\"Actual Category\")\n",
        "plt.title(\"Confusion Matrix\")\n",
        "plt.tight_layout()\n",
        "plt.show()"
      ],
      "metadata": {
        "colab": {
          "base_uri": "https://localhost:8080/",
          "height": 607
        },
        "id": "BlRPryQXMH-k",
        "outputId": "94848084-c4cc-42e0-c85c-d5659cbf213b"
      },
      "execution_count": 56,
      "outputs": [
        {
          "output_type": "display_data",
          "data": {
            "text/plain": [
              "<Figure size 800x600 with 2 Axes>"
            ],
            "image/png": "[encoded data removed]"
          },
          "metadata": {}
        }
      ]
    },
    {
      "cell_type": "code",
      "source": [
        "print(classification_report(test_df['custom_category'], test_df['predicted']))"
      ],
      "metadata": {
        "colab": {
          "base_uri": "https://localhost:8080/"
        },
        "id": "J7Oq8n6nMLEj",
        "outputId": "77d71281-d728-417e-cf1a-d1a7d1f130b7"
      },
      "execution_count": 57,
      "outputs": [
        {
          "output_type": "stream",
          "name": "stdout",
          "text": [
            "               precision    recall  f1-score   support\n",
            "\n",
            "    economics       0.97      0.96      0.97        75\n",
            "    education       0.95      0.93      0.94        58\n",
            "entertainment       0.98      0.93      0.96        46\n",
            "     politics       0.90      0.96      0.93        56\n",
            "       sports       0.98      0.98      0.98        63\n",
            "\n",
            "     accuracy                           0.96       298\n",
            "    macro avg       0.96      0.95      0.96       298\n",
            " weighted avg       0.96      0.96      0.96       298\n",
            "\n"
          ]
        }
      ]
    }
  ]
}